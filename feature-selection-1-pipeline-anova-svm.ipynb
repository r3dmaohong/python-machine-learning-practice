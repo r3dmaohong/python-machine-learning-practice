{
 "cells": [
  {
   "cell_type": "code",
   "execution_count": 2,
   "metadata": {},
   "outputs": [],
   "source": [
    "from sklearn import svm\n",
    "from sklearn.datasets import samples_generator\n",
    "from sklearn.feature_selection import SelectKBest, f_regression\n",
    "from sklearn.pipeline import make_pipeline"
   ]
  },
  {
   "cell_type": "code",
   "execution_count": 3,
   "metadata": {},
   "outputs": [],
   "source": [
    "X, y = samples_generator.make_classification(\n",
    "    n_features=20, n_informative=3, n_redundant=0, n_classes=4,\n",
    "    n_clusters_per_class=2)"
   ]
  },
  {
   "cell_type": "code",
   "execution_count": 9,
   "metadata": {},
   "outputs": [
    {
     "name": "stdout",
     "output_type": "stream",
     "text": [
      "(100, 20)\n",
      "(100,)\n",
      "[[-0.37334472 -1.60847479  0.94919423 ...,  1.17745746  0.47301359\n",
      "  -0.10639016]\n",
      " [-0.03419167 -1.73424539  0.11836457 ...,  1.4507109   0.33985573\n",
      "   0.3279562 ]\n",
      " [ 0.7415089  -0.51443257 -0.6221127  ..., -2.00831744  0.49932521\n",
      "   0.8301643 ]\n",
      " ..., \n",
      " [-1.58593984  0.4486212   1.21544165 ...,  0.83476577  0.68952424\n",
      "  -0.61938782]\n",
      " [-2.11214752  1.43254773 -0.06144742 ..., -0.31918627  1.60046136\n",
      "   0.59802823]\n",
      " [-2.07321328  2.37068416  0.59526132 ..., -2.17939367  1.54207753\n",
      "  -0.66463548]]\n",
      "[0 0 1 1 0 3 2 0 2 3 0 1 3 0 3 0 3 3 2 1 3 2 0 3 1 0 0 1 1 2 0 1 2 0 2 0 2\n",
      " 2 3 1 2 2 3 2 0 1 1 1 0 3 3 1 1 1 0 1 3 1 3 0 0 3 2 2 3 3 1 1 2 3 2 3 1 2\n",
      " 2 1 3 0 3 2 1 2 0 0 2 3 1 0 2 3 0 1 0 2 0 3 1 0 2 2]\n"
     ]
    }
   ],
   "source": [
    "print(X.shape)\n",
    "print(y.shape)\n",
    "\n",
    "print(X)\n",
    "print(y)"
   ]
  },
  {
   "cell_type": "code",
   "execution_count": 10,
   "metadata": {},
   "outputs": [
    {
     "data": {
      "text/plain": [
       "array([0, 0, 1, 1, 0, 3, 2, 0, 2, 1, 0, 1, 3, 2, 3, 0, 3, 3, 2, 1, 3, 3, 0,\n",
       "       3, 3, 0, 0, 1, 1, 2, 1, 1, 2, 0, 2, 0, 2, 2, 3, 1, 2, 2, 3, 3, 1, 1,\n",
       "       1, 1, 3, 3, 3, 1, 1, 1, 0, 1, 3, 1, 3, 0, 0, 3, 2, 3, 1, 3, 0, 1, 2,\n",
       "       2, 3, 3, 1, 2, 2, 3, 3, 2, 3, 3, 0, 2, 0, 0, 2, 3, 1, 0, 2, 1, 1, 1,\n",
       "       0, 2, 0, 3, 1, 2, 2, 2])"
      ]
     },
     "execution_count": 10,
     "metadata": {},
     "output_type": "execute_result"
    }
   ],
   "source": [
    "# ANOVA SVM-C\n",
    "# http://scikit-learn.org/stable/modules/generated/sklearn.feature_selection.f_regression.html\n",
    "# 1) anova filter, take 3 best ranked features\n",
    "# f score\n",
    "anova_filter = SelectKBest(f_regression, k=3)\n",
    "# 2) svm\n",
    "clf = svm.SVC(kernel='linear')\n",
    "\n",
    "anova_svm = make_pipeline(anova_filter, clf)\n",
    "anova_svm.fit(X, y)\n",
    "anova_svm.predict(X)"
   ]
  },
  {
   "cell_type": "code",
   "execution_count": null,
   "metadata": {},
   "outputs": [],
   "source": []
  }
 ],
 "metadata": {
  "kernelspec": {
   "display_name": "Python 3",
   "language": "python",
   "name": "python3"
  },
  "language_info": {
   "codemirror_mode": {
    "name": "ipython",
    "version": 3
   },
   "file_extension": ".py",
   "mimetype": "text/x-python",
   "name": "python",
   "nbconvert_exporter": "python",
   "pygments_lexer": "ipython3",
   "version": "3.6.3"
  }
 },
 "nbformat": 4,
 "nbformat_minor": 2
}
