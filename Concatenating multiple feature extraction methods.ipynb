{
 "cells": [
  {
   "cell_type": "code",
   "execution_count": null,
   "metadata": {},
   "outputs": [],
   "source": [
    "from sklearn.pipeline import Pipeline, FeatureUnion\n",
    "from sklearn.grid_search import GridSearchCV\n",
    "from sklearn.svm import SVC\n",
    "from sklearn.datasets import load_iris\n",
    "from sklearn.decomposition import PCA\n",
    "from sklearn.feature_selection import SelectKBest"
   ]
  },
  {
   "cell_type": "code",
   "execution_count": 2,
   "metadata": {},
   "outputs": [
    {
     "data": {
      "text/plain": [
       "(150, 4)"
      ]
     },
     "execution_count": 2,
     "metadata": {},
     "output_type": "execute_result"
    }
   ],
   "source": [
    "iris = load_iris()\n",
    "\n",
    "X, y = iris.data, iris.target\n",
    "X.shape"
   ]
  },
  {
   "cell_type": "code",
   "execution_count": null,
   "metadata": {},
   "outputs": [],
   "source": [
    "pca = PCA(n_components=2)\n",
    "# original features\n",
    "selection = SelectKBest(k=1)\n",
    "\n",
    "combined_features = FeatureUnion([(\"pca\", pca), (\"univ_select\", selection)])\n",
    "\n",
    "# Use combined features to transform dataset:\n",
    "X_features = combined_features.fit(X, y).transform(X)"
   ]
  },
  {
   "cell_type": "code",
   "execution_count": 4,
   "metadata": {},
   "outputs": [
    {
     "name": "stdout",
     "output_type": "stream",
     "text": [
      "(150, 4)\n",
      "(150, 3)\n"
     ]
    }
   ],
   "source": [
    "print(X.shape)\n",
    "print(X_features.shape)"
   ]
  },
  {
   "cell_type": "code",
   "execution_count": 12,
   "metadata": {},
   "outputs": [
    {
     "name": "stdout",
     "output_type": "stream",
     "text": [
      "Fitting 3 folds for each of 18 candidates, totalling 54 fits\n",
      "[CV] features__pca__n_components=1, features__univ_select__k=1, svm__C=0.1 \n",
      "[CV]  features__pca__n_components=1, features__univ_select__k=1, svm__C=0.1, score=0.960784 -   0.0s\n",
      "[CV] features__pca__n_components=1, features__univ_select__k=1, svm__C=0.1 \n",
      "[CV]  features__pca__n_components=1, features__univ_select__k=1, svm__C=0.1, score=0.901961 -   0.0s\n",
      "[CV] features__pca__n_components=1, features__univ_select__k=1, svm__C=0.1 \n",
      "[CV]  features__pca__n_components=1, features__univ_select__k=1, svm__C=0.1, score=0.979167 -   0.0s\n",
      "[CV] features__pca__n_components=1, features__univ_select__k=1, svm__C=1 \n",
      "[CV]  features__pca__n_components=1, features__univ_select__k=1, svm__C=1, score=0.941176 -   0.0s\n",
      "[CV] features__pca__n_components=1, features__univ_select__k=1, svm__C=1 \n",
      "[CV]  features__pca__n_components=1, features__univ_select__k=1, svm__C=1, score=0.921569 -   0.0s\n",
      "[CV] features__pca__n_components=1, features__univ_select__k=1, svm__C=1 \n",
      "[CV]  features__pca__n_components=1, features__univ_select__k=1, svm__C=1, score=0.979167 -   0.0s\n",
      "[CV] features__pca__n_components=1, features__univ_select__k=1, svm__C=10 \n",
      "[CV]  features__pca__n_components=1, features__univ_select__k=1, svm__C=10, score=0.960784 -   0.0s\n",
      "[CV] features__pca__n_components=1, features__univ_select__k=1, svm__C=10 \n",
      "[CV]  features__pca__n_components=1, features__univ_select__k=1, svm__C=10, score=0.921569 -   0.0s\n",
      "[CV] features__pca__n_components=1, features__univ_select__k=1, svm__C=10 \n",
      "[CV]  features__pca__n_components=1, features__univ_select__k=1, svm__C=10, score=0.979167 -   0.0s\n",
      "[CV] features__pca__n_components=1, features__univ_select__k=2, svm__C=0.1 \n",
      "[CV]  features__pca__n_components=1, features__univ_select__k=2, svm__C=0.1, score=0.960784 -   0.0s\n",
      "[CV] features__pca__n_components=1, features__univ_select__k=2, svm__C=0.1 \n",
      "[CV]  features__pca__n_components=1, features__univ_select__k=2, svm__C=0.1, score=0.921569 -   0.0s\n",
      "[CV] features__pca__n_components=1, features__univ_select__k=2, svm__C=0.1 \n",
      "[CV]  features__pca__n_components=1, features__univ_select__k=2, svm__C=0.1, score=0.979167 -   0.0s\n",
      "[CV] features__pca__n_components=1, features__univ_select__k=2, svm__C=1 \n",
      "[CV]  features__pca__n_components=1, features__univ_select__k=2, svm__C=1, score=0.960784 -   0.0s\n",
      "[CV] features__pca__n_components=1, features__univ_select__k=2, svm__C=1 \n",
      "[CV]  features__pca__n_components=1, features__univ_select__k=2, svm__C=1, score=0.921569 -   0.0s\n",
      "[CV] features__pca__n_components=1, features__univ_select__k=2, svm__C=1 \n",
      "[CV]  features__pca__n_components=1, features__univ_select__k=2, svm__C=1, score=1.000000 -   0.0s\n",
      "[CV] features__pca__n_components=1, features__univ_select__k=2, svm__C=10 \n",
      "[CV]  features__pca__n_components=1, features__univ_select__k=2, svm__C=10, score=0.980392 -   0.0s\n",
      "[CV] features__pca__n_components=1, features__univ_select__k=2, svm__C=10 \n",
      "[CV]  features__pca__n_components=1, features__univ_select__k=2, svm__C=10, score=0.901961 -   0.0s\n",
      "[CV] features__pca__n_components=1, features__univ_select__k=2, svm__C=10 \n",
      "[CV]  features__pca__n_components=1, features__univ_select__k=2, svm__C=10, score=1.000000 -   0.0s\n",
      "[CV] features__pca__n_components=2, features__univ_select__k=1, svm__C=0.1 \n",
      "[CV]  features__pca__n_components=2, features__univ_select__k=1, svm__C=0.1, score=0.960784 -   0.0s\n",
      "[CV] features__pca__n_components=2, features__univ_select__k=1, svm__C=0.1 \n",
      "[CV]  features__pca__n_components=2, features__univ_select__k=1, svm__C=0.1, score=0.901961 -   0.0s\n",
      "[CV] features__pca__n_components=2, features__univ_select__k=1, svm__C=0.1 \n",
      "[CV]  features__pca__n_components=2, features__univ_select__k=1, svm__C=0.1, score=0.979167 -   0.0s\n",
      "[CV] features__pca__n_components=2, features__univ_select__k=1, svm__C=1 \n",
      "[CV]  features__pca__n_components=2, features__univ_select__k=1, svm__C=1, score=0.980392 -   0.0s\n",
      "[CV] features__pca__n_components=2, features__univ_select__k=1, svm__C=1 \n",
      "[CV]  features__pca__n_components=2, features__univ_select__k=1, svm__C=1, score=0.941176 -   0.0s\n",
      "[CV] features__pca__n_components=2, features__univ_select__k=1, svm__C=1 \n",
      "[CV]  features__pca__n_components=2, features__univ_select__k=1, svm__C=1, score=0.979167 -   0.0s\n",
      "[CV] features__pca__n_components=2, features__univ_select__k=1, svm__C=10 \n",
      "[CV]  features__pca__n_components=2, features__univ_select__k=1, svm__C=10, score=0.980392 -   0.0s\n",
      "[CV] features__pca__n_components=2, features__univ_select__k=1, svm__C=10 \n",
      "[CV]  features__pca__n_components=2, features__univ_select__k=1, svm__C=10, score=0.941176 -   0.0s\n",
      "[CV] features__pca__n_components=2, features__univ_select__k=1, svm__C=10 \n",
      "[CV]  features__pca__n_components=2, features__univ_select__k=1, svm__C=10, score=0.979167 -   0.0s\n",
      "[CV] features__pca__n_components=2, features__univ_select__k=2, svm__C=0.1 \n",
      "[CV]  features__pca__n_components=2, features__univ_select__k=2, svm__C=0.1, score=0.980392 -   0.0s\n",
      "[CV] features__pca__n_components=2, features__univ_select__k=2, svm__C=0.1 \n",
      "[CV]  features__pca__n_components=2, features__univ_select__k=2, svm__C=0.1, score=0.941176 -   0.0s\n",
      "[CV] features__pca__n_components=2, features__univ_select__k=2, svm__C=0.1 \n",
      "[CV]  features__pca__n_components=2, features__univ_select__k=2, svm__C=0.1, score=0.979167 -   0.0s\n",
      "[CV] features__pca__n_components=2, features__univ_select__k=2, svm__C=1 \n",
      "[CV]  features__pca__n_components=2, features__univ_select__k=2, svm__C=1, score=1.000000 -   0.0s\n",
      "[CV] features__pca__n_components=2, features__univ_select__k=2, svm__C=1 \n",
      "[CV]  features__pca__n_components=2, features__univ_select__k=2, svm__C=1, score=0.960784 -   0.0s\n",
      "[CV] features__pca__n_components=2, features__univ_select__k=2, svm__C=1 \n",
      "[CV]  features__pca__n_components=2, features__univ_select__k=2, svm__C=1, score=0.979167 -   0.0s\n",
      "[CV] features__pca__n_components=2, features__univ_select__k=2, svm__C=10 \n",
      "[CV]  features__pca__n_components=2, features__univ_select__k=2, svm__C=10, score=0.980392 -   0.0s\n",
      "[CV] features__pca__n_components=2, features__univ_select__k=2, svm__C=10 \n",
      "[CV]  features__pca__n_components=2, features__univ_select__k=2, svm__C=10, score=0.921569 -   0.0s\n"
     ]
    },
    {
     "name": "stderr",
     "output_type": "stream",
     "text": [
      "[Parallel(n_jobs=1)]: Done   1 out of   1 | elapsed:    0.0s remaining:    0.0s\n",
      "[Parallel(n_jobs=1)]: Done   2 out of   2 | elapsed:    0.0s remaining:    0.0s\n",
      "[Parallel(n_jobs=1)]: Done   3 out of   3 | elapsed:    0.0s remaining:    0.0s\n",
      "[Parallel(n_jobs=1)]: Done   4 out of   4 | elapsed:    0.0s remaining:    0.0s\n",
      "[Parallel(n_jobs=1)]: Done   5 out of   5 | elapsed:    0.0s remaining:    0.0s\n",
      "[Parallel(n_jobs=1)]: Done   6 out of   6 | elapsed:    0.0s remaining:    0.0s\n",
      "[Parallel(n_jobs=1)]: Done   7 out of   7 | elapsed:    0.1s remaining:    0.0s\n",
      "[Parallel(n_jobs=1)]: Done   8 out of   8 | elapsed:    0.1s remaining:    0.0s\n",
      "[Parallel(n_jobs=1)]: Done   9 out of   9 | elapsed:    0.1s remaining:    0.0s\n"
     ]
    },
    {
     "name": "stdout",
     "output_type": "stream",
     "text": [
      "[CV] features__pca__n_components=2, features__univ_select__k=2, svm__C=10 \n",
      "[CV]  features__pca__n_components=2, features__univ_select__k=2, svm__C=10, score=1.000000 -   0.0s\n",
      "[CV] features__pca__n_components=3, features__univ_select__k=1, svm__C=0.1 \n",
      "[CV]  features__pca__n_components=3, features__univ_select__k=1, svm__C=0.1, score=0.980392 -   0.0s\n",
      "[CV] features__pca__n_components=3, features__univ_select__k=1, svm__C=0.1 \n",
      "[CV]  features__pca__n_components=3, features__univ_select__k=1, svm__C=0.1, score=0.941176 -   0.0s\n",
      "[CV] features__pca__n_components=3, features__univ_select__k=1, svm__C=0.1 \n",
      "[CV]  features__pca__n_components=3, features__univ_select__k=1, svm__C=0.1, score=0.979167 -   0.0s\n",
      "[CV] features__pca__n_components=3, features__univ_select__k=1, svm__C=1 \n",
      "[CV]  features__pca__n_components=3, features__univ_select__k=1, svm__C=1, score=1.000000 -   0.0s\n",
      "[CV] features__pca__n_components=3, features__univ_select__k=1, svm__C=1 \n",
      "[CV]  features__pca__n_components=3, features__univ_select__k=1, svm__C=1, score=0.941176 -   0.0s\n",
      "[CV] features__pca__n_components=3, features__univ_select__k=1, svm__C=1 \n",
      "[CV]  features__pca__n_components=3, features__univ_select__k=1, svm__C=1, score=0.979167 -   0.0s\n",
      "[CV] features__pca__n_components=3, features__univ_select__k=1, svm__C=10 \n",
      "[CV]  features__pca__n_components=3, features__univ_select__k=1, svm__C=10, score=1.000000 -   0.0s\n",
      "[CV] features__pca__n_components=3, features__univ_select__k=1, svm__C=10 \n",
      "[CV]  features__pca__n_components=3, features__univ_select__k=1, svm__C=10, score=0.921569 -   0.0s\n",
      "[CV] features__pca__n_components=3, features__univ_select__k=1, svm__C=10 \n",
      "[CV]  features__pca__n_components=3, features__univ_select__k=1, svm__C=10, score=1.000000 -   0.0s\n",
      "[CV] features__pca__n_components=3, features__univ_select__k=2, svm__C=0.1 \n",
      "[CV]  features__pca__n_components=3, features__univ_select__k=2, svm__C=0.1, score=0.980392 -   0.0s\n",
      "[CV] features__pca__n_components=3, features__univ_select__k=2, svm__C=0.1 \n",
      "[CV]  features__pca__n_components=3, features__univ_select__k=2, svm__C=0.1, score=0.941176 -   0.0s\n",
      "[CV] features__pca__n_components=3, features__univ_select__k=2, svm__C=0.1 \n",
      "[CV]  features__pca__n_components=3, features__univ_select__k=2, svm__C=0.1, score=0.979167 -   0.0s\n",
      "[CV] features__pca__n_components=3, features__univ_select__k=2, svm__C=1 \n",
      "[CV]  features__pca__n_components=3, features__univ_select__k=2, svm__C=1, score=1.000000 -   0.0s\n",
      "[CV] features__pca__n_components=3, features__univ_select__k=2, svm__C=1 \n",
      "[CV]  features__pca__n_components=3, features__univ_select__k=2, svm__C=1, score=0.960784 -   0.0s\n",
      "[CV] features__pca__n_components=3, features__univ_select__k=2, svm__C=1 \n",
      "[CV]  features__pca__n_components=3, features__univ_select__k=2, svm__C=1, score=0.979167 -   0.0s\n",
      "[CV] features__pca__n_components=3, features__univ_select__k=2, svm__C=10 \n",
      "[CV]  features__pca__n_components=3, features__univ_select__k=2, svm__C=10, score=1.000000 -   0.0s\n",
      "[CV] features__pca__n_components=3, features__univ_select__k=2, svm__C=10 \n",
      "[CV]  features__pca__n_components=3, features__univ_select__k=2, svm__C=10, score=0.921569 -   0.0s\n",
      "[CV] features__pca__n_components=3, features__univ_select__k=2, svm__C=10 \n",
      "[CV]  features__pca__n_components=3, features__univ_select__k=2, svm__C=10, score=1.000000 -   0.0s\n"
     ]
    },
    {
     "name": "stderr",
     "output_type": "stream",
     "text": [
      "[Parallel(n_jobs=1)]: Done  54 out of  54 | elapsed:    0.3s finished\n"
     ]
    },
    {
     "data": {
      "text/plain": [
       "GridSearchCV(cv=None, error_score='raise',\n",
       "       estimator=Pipeline(memory=None,\n",
       "     steps=[('features', FeatureUnion(n_jobs=1,\n",
       "       transformer_list=[('pca', PCA(copy=True, iterated_power='auto', n_components=2, random_state=None,\n",
       "  svd_solver='auto', tol=0.0, whiten=False)), ('univ_select', SelectKBest(k=1, score_func=<function f_classif at 0x1a0e3691e0>))],\n",
       "       transformer_w...,\n",
       "  max_iter=-1, probability=False, random_state=None, shrinking=True,\n",
       "  tol=0.001, verbose=False))]),\n",
       "       fit_params={}, iid=True, n_jobs=1,\n",
       "       param_grid={'features__pca__n_components': [1, 2, 3], 'features__univ_select__k': [1, 2], 'svm__C': [0.1, 1, 10]},\n",
       "       pre_dispatch='2*n_jobs', refit=True, scoring=None, verbose=10)"
      ]
     },
     "execution_count": 12,
     "metadata": {},
     "output_type": "execute_result"
    }
   ],
   "source": [
    "svm = SVC(kernel=\"linear\")\n",
    "\n",
    "# Do grid search over k, n_components and C:\n",
    "\n",
    "pipeline = Pipeline([(\"features\", combined_features), (\"svm\", svm)])\n",
    "\n",
    "param_grid = dict(features__pca__n_components=[1, 2, 3],\n",
    "                  features__univ_select__k=[1, 2],\n",
    "                  svm__C=[0.1, 1, 10])\n",
    "\n",
    "grid_search = GridSearchCV(pipeline, param_grid=param_grid, verbose=10)\n",
    "grid_search.fit(X, y)"
   ]
  },
  {
   "cell_type": "code",
   "execution_count": 8,
   "metadata": {
    "scrolled": true
   },
   "outputs": [
    {
     "data": {
      "text/plain": [
       "Pipeline(memory=None,\n",
       "     steps=[('features', FeatureUnion(n_jobs=1,\n",
       "       transformer_list=[('pca', PCA(copy=True, iterated_power='auto', n_components=2, random_state=None,\n",
       "  svd_solver='auto', tol=0.0, whiten=False)), ('univ_select', SelectKBest(k=2, score_func=<function f_classif at 0x1a0e3691e0>))],\n",
       "       transformer_w...,\n",
       "  max_iter=-1, probability=False, random_state=None, shrinking=True,\n",
       "  tol=0.001, verbose=False))])"
      ]
     },
     "execution_count": 8,
     "metadata": {},
     "output_type": "execute_result"
    }
   ],
   "source": [
    "grid_search.best_estimator_"
   ]
  },
  {
   "cell_type": "code",
   "execution_count": null,
   "metadata": {},
   "outputs": [],
   "source": []
  }
 ],
 "metadata": {
  "kernelspec": {
   "display_name": "Python 3",
   "language": "python",
   "name": "python3"
  },
  "language_info": {
   "codemirror_mode": {
    "name": "ipython",
    "version": 3
   },
   "file_extension": ".py",
   "mimetype": "text/x-python",
   "name": "python",
   "nbconvert_exporter": "python",
   "pygments_lexer": "ipython3",
   "version": "3.6.3"
  }
 },
 "nbformat": 4,
 "nbformat_minor": 2
}
